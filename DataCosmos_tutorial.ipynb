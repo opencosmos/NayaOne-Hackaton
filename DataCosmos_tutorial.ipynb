{
  "nbformat": 4,
  "nbformat_minor": 0,
  "metadata": {
    "colab": {
      "provenance": []
    },
    "kernelspec": {
      "name": "python3",
      "display_name": "Python 3"
    },
    "language_info": {
      "name": "python"
    }
  },
  "cells": [
    {
      "cell_type": "markdown",
      "source": [
        "# DataCosmos API tutorial\n",
        "\n",
        "Welcome to the DataCosmos API tutorial, in this notebook you will find code examples to\n",
        "\n",
        "*   get access token to DataCosmos,\n",
        "*   perform a STAC search on DataCosmos catalougue,\n",
        "*   access and display a Satellite image\n",
        "*   perform a band algebra operation\n",
        "\n"
      ],
      "metadata": {
        "id": "BSoYFA8ljrFZ"
      }
    },
    {
      "cell_type": "markdown",
      "source": [
        "### Before you begin\n",
        "Make sure you have an environment to run this notebook with installed the required modules:"
      ],
      "metadata": {
        "id": "0ilEBtro7Jle"
      }
    },
    {
      "cell_type": "code",
      "source": [
        "pip install mercury folium rasterio"
      ],
      "metadata": {
        "collapsed": true,
        "id": "u4NXNYMl0Fzn"
      },
      "execution_count": null,
      "outputs": []
    },
    {
      "cell_type": "code",
      "source": [
        "import json requests\n",
        "import mercury as mr"
      ],
      "metadata": {
        "id": "C_H1h8Z9T4OE"
      },
      "execution_count": null,
      "outputs": []
    },
    {
      "cell_type": "markdown",
      "source": [
        "## Import the credentials and generate an Auth0 access token\n",
        "When using any of the DataCosmos APIs you will need to set a bearer token in your HTTP request headers. This bearer token can be retrieved by sending a request to the auth endpoint with your client credentials.\n",
        "\n",
        "An example of how to use the client credentials to authenticate and receive a bearer token is provided below in different programming languages.\n",
        "\n",
        "For these examples you will need to save your credentials to `data_cosmos_api_credentials.json` in the same directory using the following format:\n",
        "\n",
        "```\n",
        "{\n",
        "  \"client_id\": \"joULxX1htnXBHt7Q8rqBL3TTICmcMjZ8\",\n",
        "  \"client_secret\": \"<please-put-here-your-client_secret>\",\n",
        "  \"audience\": \"https://beeapp.open-cosmos.com\",\n",
        "  \"grant_type\": \"client_credentials\"\n",
        "}\n",
        "```\n",
        "\n"
      ],
      "metadata": {
        "id": "w0BpJJm1j4dV"
      }
    },
    {
      "cell_type": "markdown",
      "source": [
        "Run the following cell to open the file with the credentials  "
      ],
      "metadata": {
        "id": "UlW3jGmS6iuO"
      }
    },
    {
      "cell_type": "code",
      "execution_count": null,
      "metadata": {
        "id": "0NGOZ7hBjXhB",
        "collapsed": true
      },
      "outputs": [],
      "source": [
        "import json\n",
        "\n",
        "#with open(\"data_cosmos_api_credentials.json\") as fp:\n",
        "#    client_credentials = json.load(fp)"
      ]
    },
    {
      "cell_type": "markdown",
      "source": [
        "If instead you run the code in Google Colaboratory it is enough load the shared credentials."
      ],
      "metadata": {
        "id": "Hldl1ovRyAQA"
      }
    },
    {
      "cell_type": "code",
      "source": [
        "from google.colab import userdata\n",
        "\n",
        "client_credentials =  {\n",
        "                        \"client_id\": userdata.get('client_id'),\n",
        "                        \"client_secret\": userdata.get('client_secret'),\n",
        "                        \"audience\": \"https://beeapp.open-cosmos.com\",\n",
        "                        \"grant_type\": \"client_credentials\"\n",
        "                      }"
      ],
      "metadata": {
        "id": "xhJCf46YwB9V"
      },
      "execution_count": null,
      "outputs": []
    },
    {
      "cell_type": "markdown",
      "source": [
        "Run the next cell in order to get the authorization token\n"
      ],
      "metadata": {
        "id": "_jtOTdWyyYmu"
      }
    },
    {
      "cell_type": "code",
      "source": [
        "import requests\n",
        "\n",
        "session = requests.Session()\n",
        "req = session.post(\n",
        "    \"https://login.open-cosmos.com/oauth/token\",\n",
        "    data=client_credentials\n",
        ").json()\n",
        "\n",
        "session.headers.update(\n",
        "    {\n",
        "        \"Authorization\": f'{req[\"token_type\"]} {req[\"access_token\"]}',\n",
        "        \"Content-Type\": \"application/json\"\n",
        "    }\n",
        ")"
      ],
      "metadata": {
        "id": "eSn3aKy7wkSh"
      },
      "execution_count": null,
      "outputs": []
    },
    {
      "cell_type": "markdown",
      "source": [
        "## Browse DataCosmos STAC catalog\n",
        "\n",
        "In our catalog we use the STAC standard, which you can learn more about here:\n",
        "\n",
        "*   [stacspec.org](https://stacspec.org/en)\n",
        "\n",
        "And also other documentation here:\n",
        "* [github.com / radiantearth / stac-api-spec](https://github.com/radiantearth/stac-api-spec)\n",
        "* [github.com / radiantearth / stac-spec](https://)\n",
        "\n",
        "\n",
        "In particular, this definition will be useful where you can find a definition for a STAC Item:\n",
        "\n",
        "[github.com / radiantearth / stac-spec / blob / master / item-spec / item-spec.md](https://github.com/radiantearth/stac-spec/blob/master/item-spec/item-spec.md)\n",
        "\n",
        "To browse the STAC Items in our catalog, please do a `POST` Request to the following endpoint:\n",
        "\n",
        "`https://app.open-cosmos.com/api/data/v0/scenario/scenario/{project_id}/search`\n",
        "\n",
        "Where the `project_id` can be any of the following three:\n",
        "\n",
        "1.   `8b56515d-6d9d-441d-a461-886c98a5e868`\n",
        "2.   `fd3abdb7-25a1-4b54-ada1-064a9c5bffaa`\n",
        "3.   `8b56515d-6d9d-441d-a461-886c98a5e868`\n",
        "\n",
        "Authorization type has to be set to Bearer Token with the token you generated.\n",
        "\n",
        "An example body for the request would be:\n",
        "\n",
        "\n",
        "```\n",
        "{\n",
        "    \"limit\": 99,\n",
        "    \"bbox\": [-180, -90, 180, 90],\n",
        "    \"query\": {}\n",
        "}\n",
        "```\n",
        "where\n",
        "\n",
        "\n",
        "*  `limit` is the maximum number of items to be returned from the search\n",
        "*  `bbox` is  the bounding box expressed in coordinates where to search, `[-180, -90, 180, 90]` is the whole earth surface\n",
        "* `query` is any other possible filter criteria\n",
        "\n",
        "\n",
        "\n",
        "\n",
        "\n",
        "This will give you a response with different fields: `context`, `features`, `links`, `numberMatched`, `numberReturned` and `type`.\n",
        "Inside the `features` field, you can find a list with different STAC Items.\n",
        "Inside every STAC Item there is an `assets` field where you can find the link to access our images."
      ],
      "metadata": {
        "id": "u_LBItKOjpr4"
      }
    },
    {
      "cell_type": "code",
      "source": [
        "import mercury as mr\n",
        "\n",
        "project_id = userdata.get('project_1')\n",
        "\n",
        "base_url = \"https://app.open-cosmos.com\"\n",
        "url_search = f\"{base_url}/api/data/v0/scenario/scenario/{project_id}/search\"\n",
        "\n",
        "params = {\n",
        "    \"limit\": 99,\n",
        "    \"bbox\": [-180, -90, 180, 90],\n",
        "    \"query\": {}\n",
        "}\n",
        "\n",
        "collection_response = session.post(url_search, json=params).json()\n",
        "\n",
        "mr.JSON(collection_response)\n",
        "\n",
        "# You can print if you cannot see the urls\n",
        "# print(collection_response)"
      ],
      "metadata": {
        "id": "mC6BcnKAxqTm"
      },
      "execution_count": null,
      "outputs": []
    },
    {
      "cell_type": "markdown",
      "source": [
        "## Access one item and display the preview"
      ],
      "metadata": {
        "id": "-e3t-aDEkVKb"
      }
    },
    {
      "cell_type": "code",
      "source": [
        "from IPython.display import Image, display\n",
        "\n",
        "# URL of the image\n",
        "image_url = collection_response['features'][2]['assets']['thumbnail']['href']\n",
        "\n",
        "# Fetch the image\n",
        "response = session.get(image_url)\n",
        "\n",
        "# Open the image and display it\n",
        "image = Image(response.content)\n",
        "\n",
        "display(image)"
      ],
      "metadata": {
        "id": "TpA5kEcUkeyQ"
      },
      "execution_count": null,
      "outputs": []
    },
    {
      "cell_type": "code",
      "source": [
        "# Fetch the full resolution of the True Colour Image\n",
        "image_url = collection_response['features'][2]['assets']['TCI']['href']\n",
        "\n",
        "response = session.get(image_url)"
      ],
      "metadata": {
        "id": "44zgOdBnXfFq"
      },
      "execution_count": null,
      "outputs": []
    },
    {
      "cell_type": "code",
      "source": [
        "display(response.content)"
      ],
      "metadata": {
        "id": "UvfbM52eY7rg"
      },
      "execution_count": null,
      "outputs": []
    }
  ]
}